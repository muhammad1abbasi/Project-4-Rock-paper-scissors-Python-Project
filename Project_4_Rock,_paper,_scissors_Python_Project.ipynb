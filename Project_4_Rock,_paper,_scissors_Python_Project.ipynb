{
  "nbformat": 4,
  "nbformat_minor": 0,
  "metadata": {
    "colab": {
      "provenance": [],
      "authorship_tag": "ABX9TyMbzc9Cno4OayrIfcw96gIQ",
      "include_colab_link": true
    },
    "kernelspec": {
      "name": "python3",
      "display_name": "Python 3"
    },
    "language_info": {
      "name": "python"
    }
  },
  "cells": [
    {
      "cell_type": "markdown",
      "metadata": {
        "id": "view-in-github",
        "colab_type": "text"
      },
      "source": [
        "<a href=\"https://colab.research.google.com/github/muhammad1abbasi/Project-4-Rock-paper-scissors-Python-Project/blob/main/Project_4_Rock%2C_paper%2C_scissors_Python_Project.ipynb\" target=\"_parent\"><img src=\"https://colab.research.google.com/assets/colab-badge.svg\" alt=\"Open In Colab\"/></a>"
      ]
    },
    {
      "cell_type": "markdown",
      "source": [
        "Project 4: Rock, paper, scissors Python Project"
      ],
      "metadata": {
        "id": "FlODy-JaAB0y"
      }
    },
    {
      "cell_type": "code",
      "execution_count": null,
      "metadata": {
        "colab": {
          "base_uri": "https://localhost:8080/"
        },
        "id": "svgehPWOAA6S",
        "outputId": "38fb69d2-b37c-4daf-e5e5-d8ef38fb2775"
      },
      "outputs": [
        {
          "output_type": "stream",
          "name": "stdout",
          "text": [
            "Choose rock , paper , scissors: paper\n",
            "Computer chose scissors\n",
            "Computer wins!\n"
          ]
        }
      ],
      "source": [
        "import random\n",
        "\n",
        "def Play_rps():\n",
        "  choices = [\"rock\" , 'paper' , \"scissors\"]\n",
        "\n",
        "  while True:\n",
        "    user_choice = input(\"Choose rock , paper , scissors: \").lower()\n",
        "    if user_choice not in choices:\n",
        "      print(\"Invalid choice. Please Choose , Rock , Paper , Scissors\")\n",
        "      continue\n",
        "    computer_choice = random.choice(choices)\n",
        "    print(f\"Computer chose {computer_choice}\")\n",
        "\n",
        "    if user_choice == computer_choice:\n",
        "      print(\"Its a tie Try again\")\n",
        "    elif (user_choice == 'rock' and computer_choice == 'scissors') or \\\n",
        "         (user_choice == 'scissors' and computer_choice == 'paper') or\\\n",
        "         (user_choice == 'paper' and computer_choice == 'rock'):\n",
        "        print(\"You win\")\n",
        "    else:\n",
        "      print(\"Computer wins!\")\n",
        "\n",
        "    play_again = input(\"Do you want to play again? (yes/no): \").lower()\n",
        "    if play_again != 'yes':\n",
        "      print(\"Thanks for playing\")\n",
        "      break\n",
        "if __name__ == \"__main__\":\n",
        "  Play_rps()\n",
        ""
      ]
    }
  ]
}